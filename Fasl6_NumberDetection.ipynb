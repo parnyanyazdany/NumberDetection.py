{
  "nbformat": 4,
  "nbformat_minor": 0,
  "metadata": {
    "colab": {
      "provenance": []
    },
    "kernelspec": {
      "name": "python3",
      "display_name": "Python 3"
    },
    "language_info": {
      "name": "python"
    }
  },
  "cells": [
    {
      "cell_type": "code",
      "execution_count": null,
      "metadata": {
        "id": "KBGpDnicEFEs",
        "colab": {
          "base_uri": "https://localhost:8080/",
          "height": 457
        },
        "outputId": "b0bf0f12-cce9-42c1-b3f2-f9e3b8d348a2"
      },
      "outputs": [
        {
          "output_type": "stream",
          "name": "stdout",
          "text": [
            "  % Total    % Received % Xferd  Average Speed   Time    Time     Time  Current\n",
            "                                 Dload  Upload   Total   Spent    Left  Speed\n",
            "\r  0     0    0     0    0     0      0      0 --:--:-- --:--:-- --:--:--     0\r100  4534  100  4534    0     0  90680      0 --:--:-- --:--:-- --:--:-- 90680\n",
            "(1797, 64)\n",
            "(8, 8)\n"
          ]
        },
        {
          "output_type": "display_data",
          "data": {
            "text/plain": [
              "<PIL.Image.Image image mode=L size=128x128 at 0x7F2579935C10>"
            ],
            "image/png": "[encoded data removed]"
          },
          "metadata": {}
        },
        {
          "output_type": "stream",
          "name": "stdout",
          "text": [
            "(10, 64)\n"
          ]
        },
        {
          "output_type": "display_data",
          "data": {
            "text/plain": [
              "<Figure size 432x288 with 10 Axes>"
            ],
            "image/png": "[encoded data removed]"
          },
          "metadata": {
            "needs_background": "light"
          }
        }
      ],
      "source": [
        "import matplotlib.pyplot as plt\n",
        "from sklearn.cluster import KMeans\n",
        "from sklearn.datasets import load_digits\n",
        "!curl -o logo.png https://colab.research.google.com/img/colab_favicon_256px.png\n",
        "import cv2\n",
        "from google.colab.patches import cv2_imshow\n",
        "import numpy as np\n",
        "\n",
        "#Farakhani dataset mojood dar load_digits:\n",
        "digits= load_digits()\n",
        "print(digits.data.shape)\n",
        "\n",
        "img= digits.data[110] #Farakhani 110th data az dataset\n",
        "img=np.reshape(img, (8,8))\n",
        "print(img.shape)\n",
        "img=cv2.resize(img, (128,128))\n",
        "cv2_imshow(img)\n",
        "\n",
        "#Ijad Alogorithem Kmeans for clustering \n",
        "kmeans=KMeans(n_clusters=10, random_state=0)\n",
        "clusters=kmeans.fit_predict(digits.data)\n",
        "print(kmeans.cluster_centers_.shape)\n",
        "\n",
        "#reshaping 64 pixels to 8*8 array:\n",
        "centers=kmeans.cluster_centers_.reshape((10,8,8))\n",
        "\n",
        "#Plotting Image of cluster centers\n",
        "for i in range (1,11):\n",
        "  plt.subplot(2, 5, i) #showing images in 2*5 matrix\n",
        "  plt.imshow(centers[i-1]) #showing centers in their positions\n",
        "plt.show()"
      ]
    }
  ]
}